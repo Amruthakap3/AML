{
  "nbformat": 4,
  "nbformat_minor": 0,
  "metadata": {
    "colab": {
      "name": "customer _satisfaction.ipynb",
      "provenance": [],
      "collapsed_sections": [],
      "authorship_tag": "ABX9TyPx+v53ur69ujO6InPr5JWA",
      "include_colab_link": true
    },
    "kernelspec": {
      "name": "python3",
      "display_name": "Python 3"
    },
    "language_info": {
      "name": "python"
    }
  },
  "cells": [
    {
      "cell_type": "markdown",
      "metadata": {
        "id": "view-in-github",
        "colab_type": "text"
      },
      "source": [
        "<a href=\"https://colab.research.google.com/github/Amruthakap3/AML/blob/main/customer__satisfaction.ipynb\" target=\"_parent\"><img src=\"https://colab.research.google.com/assets/colab-badge.svg\" alt=\"Open In Colab\"/></a>"
      ]
    },
    {
      "cell_type": "markdown",
      "source": [
        "# **Customer Satisfaction dataset analysis**"
      ],
      "metadata": {
        "id": "Nn8x88Djg17b"
      }
    },
    {
      "cell_type": "code",
      "source": [
        "import pandas as pd\n",
        "import numpy as np\n",
        "from sklearn.datasets import fetch_openml\n",
        "from sklearn.model_selection import train_test_split, cross_val_score, GridSearchCV\n",
        "import seaborn as sns\n",
        "import sys\n",
        "from sklearn.svm import SVC\n",
        "from sklearn.preprocessing import LabelEncoder\n",
        "from sklearn.tree import DecisionTreeClassifier\n",
        "import matplotlib.pyplot as plt\n",
        "%matplotlib inline"
      ],
      "metadata": {
        "id": "u34WnJ-NQrIP"
      },
      "execution_count": 40,
      "outputs": []
    },
    {
      "cell_type": "markdown",
      "source": [
        "# Load Customer Satisfaction Dataset and inspect"
      ],
      "metadata": {
        "id": "QiO-7ka3gzLZ"
      }
    },
    {
      "cell_type": "code",
      "source": [
        "df = pd.read_csv('https://raw.githubusercontent.com/Amruthakap3/AML/main/Train.csv')\n",
        "df_test = pd.read_csv('https://raw.githubusercontent.com/Amruthakap3/AML/main/Test.csv')\n",
        "#df = pd.concat([df,df_test ])\n",
        "df.info()"
      ],
      "metadata": {
        "colab": {
          "base_uri": "https://localhost:8080/"
        },
        "id": "dUtGQK4cT8Dl",
        "outputId": "0438a138-06ab-4225-bc19-daa9e2c733e0"
      },
      "execution_count": 41,
      "outputs": [
        {
          "output_type": "stream",
          "name": "stdout",
          "text": [
            "<class 'pandas.core.frame.DataFrame'>\n",
            "RangeIndex: 8068 entries, 0 to 8067\n",
            "Data columns (total 11 columns):\n",
            " #   Column           Non-Null Count  Dtype  \n",
            "---  ------           --------------  -----  \n",
            " 0   ID               8068 non-null   int64  \n",
            " 1   Gender           8068 non-null   object \n",
            " 2   Ever_Married     7928 non-null   object \n",
            " 3   Age              8068 non-null   int64  \n",
            " 4   Graduated        7990 non-null   object \n",
            " 5   Profession       7944 non-null   object \n",
            " 6   Work_Experience  7239 non-null   float64\n",
            " 7   Spending_Score   8068 non-null   object \n",
            " 8   Family_Size      7733 non-null   float64\n",
            " 9   Var_1            7992 non-null   object \n",
            " 10  Segmentation     8068 non-null   object \n",
            "dtypes: float64(2), int64(2), object(7)\n",
            "memory usage: 693.5+ KB\n"
          ]
        }
      ]
    },
    {
      "cell_type": "code",
      "source": [
        "#To print missing values\n",
        "print(df.isna().sum())"
      ],
      "metadata": {
        "colab": {
          "base_uri": "https://localhost:8080/"
        },
        "id": "y9rptUk6bzLr",
        "outputId": "fb9c407b-82e6-41dd-9469-8f8c18e331e7"
      },
      "execution_count": 42,
      "outputs": [
        {
          "output_type": "stream",
          "name": "stdout",
          "text": [
            "ID                   0\n",
            "Gender               0\n",
            "Ever_Married       140\n",
            "Age                  0\n",
            "Graduated           78\n",
            "Profession         124\n",
            "Work_Experience    829\n",
            "Spending_Score       0\n",
            "Family_Size        335\n",
            "Var_1               76\n",
            "Segmentation         0\n",
            "dtype: int64\n"
          ]
        }
      ]
    },
    {
      "cell_type": "code",
      "source": [
        "df['Segmentation'].value_counts()"
      ],
      "metadata": {
        "colab": {
          "base_uri": "https://localhost:8080/"
        },
        "id": "xs3SYAU9cSvG",
        "outputId": "5726ee32-7463-4f97-e242-963a510d126b"
      },
      "execution_count": 43,
      "outputs": [
        {
          "output_type": "execute_result",
          "data": {
            "text/plain": [
              "D    2268\n",
              "A    1972\n",
              "C    1970\n",
              "B    1858\n",
              "Name: Segmentation, dtype: int64"
            ]
          },
          "metadata": {},
          "execution_count": 43
        }
      ]
    },
    {
      "cell_type": "markdown",
      "source": [
        "# Visualisations"
      ],
      "metadata": {
        "id": "48NUTYAjiMGw"
      }
    },
    {
      "cell_type": "code",
      "source": [
        "segmentation_order =['A','B','C','D']\n",
        "def countplot(x,hue,data,order,title,fig_size):\n",
        "  fig,ax=plt.subplots(figsize=fig_size)\n",
        "  sns.countplot(x=x,hue=hue,ax=ax,data=df,order=order,palette='cool')\n",
        "  ax.set_title(title)\n",
        "  plt.show()\n",
        "  "
      ],
      "metadata": {
        "id": "kvcpmJwAJyiJ"
      },
      "execution_count": 44,
      "outputs": []
    },
    {
      "cell_type": "markdown",
      "source": [
        "**Customer Segmentation**"
      ],
      "metadata": {
        "id": "uqwSGkI_jIfr"
      }
    },
    {
      "cell_type": "code",
      "source": [
        "countplot ('Segmentation',None, df,segmentation_order,'Customer Segmentation',(10,7))"
      ],
      "metadata": {
        "colab": {
          "base_uri": "https://localhost:8080/",
          "height": 458
        },
        "id": "cztYA8m6MOaf",
        "outputId": "a8daa7b5-a09e-4a15-a296-c9f54959476c"
      },
      "execution_count": 45,
      "outputs": [
        {
          "output_type": "display_data",
          "data": {
            "image/png": "[encoded data removed]",
            "text/plain": [
              "<Figure size 720x504 with 1 Axes>"
            ]
          },
          "metadata": {
            "needs_background": "light"
          }
        }
      ]
    },
    {
      "cell_type": "markdown",
      "source": [
        "**Customer Segmentation based on Gender of the Customer**"
      ],
      "metadata": {
        "id": "Q4rgVpEnjOyM"
      }
    },
    {
      "cell_type": "code",
      "source": [
        "countplot ('Segmentation','Gender', df,segmentation_order,'Customer Segmentation based on Gender of the Customer',(10,7))"
      ],
      "metadata": {
        "colab": {
          "base_uri": "https://localhost:8080/",
          "height": 458
        },
        "id": "CFb0Jh-JPoRw",
        "outputId": "8cf4c035-8a92-439c-a72c-f915ab265166"
      },
      "execution_count": 46,
      "outputs": [
        {
          "output_type": "display_data",
          "data": {
            "image/png": "[encoded data removed]",
            "text/plain": [
              "<Figure size 720x504 with 1 Axes>"
            ]
          },
          "metadata": {
            "needs_background": "light"
          }
        }
      ]
    },
    {
      "cell_type": "markdown",
      "source": [
        "**Customer Segmentation Bbased on Spending Score**"
      ],
      "metadata": {
        "id": "320ULrtRjUav"
      }
    },
    {
      "cell_type": "code",
      "source": [
        "countplot ('Segmentation','Spending_Score', df,segmentation_order,'Customer Segmentation Bbased on Spending Score',(10,7))"
      ],
      "metadata": {
        "colab": {
          "base_uri": "https://localhost:8080/",
          "height": 458
        },
        "id": "dlVE1bv5P_re",
        "outputId": "a6ee9032-715a-444d-87a9-0695fca58e20"
      },
      "execution_count": 47,
      "outputs": [
        {
          "output_type": "display_data",
          "data": {
            "image/png": "[encoded data removed]",
            "text/plain": [
              "<Figure size 720x504 with 1 Axes>"
            ]
          },
          "metadata": {
            "needs_background": "light"
          }
        }
      ]
    },
    {
      "cell_type": "markdown",
      "source": [
        "**Customer Segmentation based on Marital Status**"
      ],
      "metadata": {
        "id": "8yBFxKSajY4f"
      }
    },
    {
      "cell_type": "code",
      "source": [
        "countplot ('Segmentation','Ever_Married', df,segmentation_order,'Customer Segmentation based on Marital Status',(10,7))"
      ],
      "metadata": {
        "colab": {
          "base_uri": "https://localhost:8080/",
          "height": 458
        },
        "id": "jda93-uQQrlE",
        "outputId": "3bf9abdc-c33b-4b8a-dd15-b195d51b9330"
      },
      "execution_count": 48,
      "outputs": [
        {
          "output_type": "display_data",
          "data": {
            "image/png": "[encoded data removed]",
            "text/plain": [
              "<Figure size 720x504 with 1 Axes>"
            ]
          },
          "metadata": {
            "needs_background": "light"
          }
        }
      ]
    },
    {
      "cell_type": "markdown",
      "source": [
        "**Plot Correlation**"
      ],
      "metadata": {
        "id": "mxMpwTtdlDj0"
      }
    },
    {
      "cell_type": "code",
      "source": [
        "df_copy = df.copy()\n",
        "df_copy.dropna(inplace = True)\n",
        "df_copy.drop(\"ID\", axis = 1, inplace=True)\n",
        "cat=[\"Ever_Married\",\"Graduated\",\"Gender\",\"Profession\",\"Spending_Score\",\"Var_1\",'Segmentation']\n",
        "for i in cat:\n",
        "  le = LabelEncoder()\n",
        "  labels= le.fit_transform(df_copy[i])\n",
        "  df_copy.drop(i,axis=1,inplace=True)\n",
        "  df_copy[i]=labels\n",
        "\n",
        "fig,ax = plt.subplots(figsize=(10,7))\n",
        "sns.heatmap( df_copy.corr(),annot = True,cmap=\"Blues\",ax = ax)\n",
        "plt.show()"
      ],
      "metadata": {
        "colab": {
          "base_uri": "https://localhost:8080/",
          "height": 508
        },
        "id": "GWb4D2B1sFBJ",
        "outputId": "b04170d0-0a5a-4f81-829e-e738f36d611f"
      },
      "execution_count": 49,
      "outputs": [
        {
          "output_type": "display_data",
          "data": {
            "image/png": "[encoded data removed]",
            "text/plain": [
              "<Figure size 720x504 with 2 Axes>"
            ]
          },
          "metadata": {
            "needs_background": "light"
          }
        }
      ]
    },
    {
      "cell_type": "markdown",
      "source": [
        "There does not seem to be a strong relationship between the target and the variables. Age, Marital status,profession seems to effect segmentation slightly."
      ],
      "metadata": {
        "id": "coNu04c8UrxV"
      }
    },
    {
      "cell_type": "code",
      "source": [
        "df2 = df.copy()\n",
        "df2.dropna(inplace = True)\n",
        "df2.drop(\"ID\", axis = 1, inplace=True)\n",
        "df2.head()\n"
      ],
      "metadata": {
        "colab": {
          "base_uri": "https://localhost:8080/",
          "height": 206
        },
        "id": "GvGTID6BEivz",
        "outputId": "cdbc2aad-e20b-4a91-8294-caff40ea7359"
      },
      "execution_count": 50,
      "outputs": [
        {
          "output_type": "execute_result",
          "data": {
            "text/html": [
              "\n",
              "  <div id=\"df-831fa8fc-0f14-4ac2-ad4c-eafda6c3dbd6\">\n",
              "    <div class=\"colab-df-container\">\n",
              "      <div>\n",
              "<style scoped>\n",
              "    .dataframe tbody tr th:only-of-type {\n",
              "        vertical-align: middle;\n",
              "    }\n",
              "\n",
              "    .dataframe tbody tr th {\n",
              "        vertical-align: top;\n",
              "    }\n",
              "\n",
              "    .dataframe thead th {\n",
              "        text-align: right;\n",
              "    }\n",
              "</style>\n",
              "<table border=\"1\" class=\"dataframe\">\n",
              "  <thead>\n",
              "    <tr style=\"text-align: right;\">\n",
              "      <th></th>\n",
              "      <th>Gender</th>\n",
              "      <th>Ever_Married</th>\n",
              "      <th>Age</th>\n",
              "      <th>Graduated</th>\n",
              "      <th>Profession</th>\n",
              "      <th>Work_Experience</th>\n",
              "      <th>Spending_Score</th>\n",
              "      <th>Family_Size</th>\n",
              "      <th>Var_1</th>\n",
              "      <th>Segmentation</th>\n",
              "    </tr>\n",
              "  </thead>\n",
              "  <tbody>\n",
              "    <tr>\n",
              "      <th>0</th>\n",
              "      <td>Male</td>\n",
              "      <td>No</td>\n",
              "      <td>22</td>\n",
              "      <td>No</td>\n",
              "      <td>Healthcare</td>\n",
              "      <td>1.0</td>\n",
              "      <td>Low</td>\n",
              "      <td>4.0</td>\n",
              "      <td>Cat_4</td>\n",
              "      <td>D</td>\n",
              "    </tr>\n",
              "    <tr>\n",
              "      <th>2</th>\n",
              "      <td>Female</td>\n",
              "      <td>Yes</td>\n",
              "      <td>67</td>\n",
              "      <td>Yes</td>\n",
              "      <td>Engineer</td>\n",
              "      <td>1.0</td>\n",
              "      <td>Low</td>\n",
              "      <td>1.0</td>\n",
              "      <td>Cat_6</td>\n",
              "      <td>B</td>\n",
              "    </tr>\n",
              "    <tr>\n",
              "      <th>3</th>\n",
              "      <td>Male</td>\n",
              "      <td>Yes</td>\n",
              "      <td>67</td>\n",
              "      <td>Yes</td>\n",
              "      <td>Lawyer</td>\n",
              "      <td>0.0</td>\n",
              "      <td>High</td>\n",
              "      <td>2.0</td>\n",
              "      <td>Cat_6</td>\n",
              "      <td>B</td>\n",
              "    </tr>\n",
              "    <tr>\n",
              "      <th>5</th>\n",
              "      <td>Male</td>\n",
              "      <td>Yes</td>\n",
              "      <td>56</td>\n",
              "      <td>No</td>\n",
              "      <td>Artist</td>\n",
              "      <td>0.0</td>\n",
              "      <td>Average</td>\n",
              "      <td>2.0</td>\n",
              "      <td>Cat_6</td>\n",
              "      <td>C</td>\n",
              "    </tr>\n",
              "    <tr>\n",
              "      <th>6</th>\n",
              "      <td>Male</td>\n",
              "      <td>No</td>\n",
              "      <td>32</td>\n",
              "      <td>Yes</td>\n",
              "      <td>Healthcare</td>\n",
              "      <td>1.0</td>\n",
              "      <td>Low</td>\n",
              "      <td>3.0</td>\n",
              "      <td>Cat_6</td>\n",
              "      <td>C</td>\n",
              "    </tr>\n",
              "  </tbody>\n",
              "</table>\n",
              "</div>\n",
              "      <button class=\"colab-df-convert\" onclick=\"convertToInteractive('df-831fa8fc-0f14-4ac2-ad4c-eafda6c3dbd6')\"\n",
              "              title=\"Convert this dataframe to an interactive table.\"\n",
              "              style=\"display:none;\">\n",
              "        \n",
              "  <svg xmlns=\"http://www.w3.org/2000/svg\" height=\"24px\"viewBox=\"0 0 24 24\"\n",
              "       width=\"24px\">\n",
              "    <path d=\"M0 0h24v24H0V0z\" fill=\"none\"/>\n",
              "    <path d=\"M18.56 5.44l.94 2.06.94-2.06 2.06-.94-2.06-.94-.94-2.06-.94 2.06-2.06.94zm-11 1L8.5 8.5l.94-2.06 2.06-.94-2.06-.94L8.5 2.5l-.94 2.06-2.06.94zm10 10l.94 2.06.94-2.06 2.06-.94-2.06-.94-.94-2.06-.94 2.06-2.06.94z\"/><path d=\"M17.41 7.96l-1.37-1.37c-.4-.4-.92-.59-1.43-.59-.52 0-1.04.2-1.43.59L10.3 9.45l-7.72 7.72c-.78.78-.78 2.05 0 2.83L4 21.41c.39.39.9.59 1.41.59.51 0 1.02-.2 1.41-.59l7.78-7.78 2.81-2.81c.8-.78.8-2.07 0-2.86zM5.41 20L4 18.59l7.72-7.72 1.47 1.35L5.41 20z\"/>\n",
              "  </svg>\n",
              "      </button>\n",
              "      \n",
              "  <style>\n",
              "    .colab-df-container {\n",
              "      display:flex;\n",
              "      flex-wrap:wrap;\n",
              "      gap: 12px;\n",
              "    }\n",
              "\n",
              "    .colab-df-convert {\n",
              "      background-color: #E8F0FE;\n",
              "      border: none;\n",
              "      border-radius: 50%;\n",
              "      cursor: pointer;\n",
              "      display: none;\n",
              "      fill: #1967D2;\n",
              "      height: 32px;\n",
              "      padding: 0 0 0 0;\n",
              "      width: 32px;\n",
              "    }\n",
              "\n",
              "    .colab-df-convert:hover {\n",
              "      background-color: #E2EBFA;\n",
              "      box-shadow: 0px 1px 2px rgba(60, 64, 67, 0.3), 0px 1px 3px 1px rgba(60, 64, 67, 0.15);\n",
              "      fill: #174EA6;\n",
              "    }\n",
              "\n",
              "    [theme=dark] .colab-df-convert {\n",
              "      background-color: #3B4455;\n",
              "      fill: #D2E3FC;\n",
              "    }\n",
              "\n",
              "    [theme=dark] .colab-df-convert:hover {\n",
              "      background-color: #434B5C;\n",
              "      box-shadow: 0px 1px 3px 1px rgba(0, 0, 0, 0.15);\n",
              "      filter: drop-shadow(0px 1px 2px rgba(0, 0, 0, 0.3));\n",
              "      fill: #FFFFFF;\n",
              "    }\n",
              "  </style>\n",
              "\n",
              "      <script>\n",
              "        const buttonEl =\n",
              "          document.querySelector('#df-831fa8fc-0f14-4ac2-ad4c-eafda6c3dbd6 button.colab-df-convert');\n",
              "        buttonEl.style.display =\n",
              "          google.colab.kernel.accessAllowed ? 'block' : 'none';\n",
              "\n",
              "        async function convertToInteractive(key) {\n",
              "          const element = document.querySelector('#df-831fa8fc-0f14-4ac2-ad4c-eafda6c3dbd6');\n",
              "          const dataTable =\n",
              "            await google.colab.kernel.invokeFunction('convertToInteractive',\n",
              "                                                     [key], {});\n",
              "          if (!dataTable) return;\n",
              "\n",
              "          const docLinkHtml = 'Like what you see? Visit the ' +\n",
              "            '<a target=\"_blank\" href=https://colab.research.google.com/notebooks/data_table.ipynb>data table notebook</a>'\n",
              "            + ' to learn more about interactive tables.';\n",
              "          element.innerHTML = '';\n",
              "          dataTable['output_type'] = 'display_data';\n",
              "          await google.colab.output.renderOutput(dataTable, element);\n",
              "          const docLink = document.createElement('div');\n",
              "          docLink.innerHTML = docLinkHtml;\n",
              "          element.appendChild(docLink);\n",
              "        }\n",
              "      </script>\n",
              "    </div>\n",
              "  </div>\n",
              "  "
            ],
            "text/plain": [
              "   Gender Ever_Married  Age  ... Family_Size  Var_1  Segmentation\n",
              "0    Male           No   22  ...         4.0  Cat_4             D\n",
              "2  Female          Yes   67  ...         1.0  Cat_6             B\n",
              "3    Male          Yes   67  ...         2.0  Cat_6             B\n",
              "5    Male          Yes   56  ...         2.0  Cat_6             C\n",
              "6    Male           No   32  ...         3.0  Cat_6             C\n",
              "\n",
              "[5 rows x 10 columns]"
            ]
          },
          "metadata": {},
          "execution_count": 50
        }
      ]
    },
    {
      "cell_type": "markdown",
      "source": [
        "# Cleanup and Scale Data"
      ],
      "metadata": {
        "id": "rlGNN55MlUYY"
      }
    },
    {
      "cell_type": "code",
      "source": [
        "#cleanup and scale data\n",
        "from sklearn.compose import ColumnTransformer\n",
        "from sklearn.pipeline import Pipeline, make_pipeline\n",
        "from sklearn.impute import SimpleImputer, KNNImputer\n",
        "from sklearn.preprocessing import OneHotEncoder, StandardScaler, OrdinalEncoder, MinMaxScaler\n",
        "\n",
        "\n",
        "# First create a pipeline for the categoric attributes\n",
        "\n",
        "cat_cols = ['Gender', 'Ever_Married', 'Graduated', 'Profession', 'Spending_Score', 'Var_1']\n",
        "\n",
        "cat_transformer = Pipeline(steps=[\n",
        "    # strategies are mean, median, most_frequent, etc.\n",
        "    ('imputer', SimpleImputer(strategy='most_frequent')),\n",
        "\n",
        "    # In ordinal encoding, each unique category value is assigned an integer value.\n",
        "    ('ordinal', OrdinalEncoder())\n",
        "])\n",
        "\n",
        "num_cols = ['Age', 'Work_Experience', 'Family_Size']\n",
        "\n",
        "num_transformer = Pipeline(steps=[\n",
        "    # Number of neighboring samples to use for K-nearest neighor imputation\n",
        "    ('imputer', KNNImputer(n_neighbors=5)),\n",
        "\n",
        "    # StandardScaler makes mean = 0 and scales the data to unit variance \n",
        "    ('scaler', StandardScaler())\n",
        "])\n",
        "\n",
        "preprocessor = ColumnTransformer(\n",
        "    transformers=[\n",
        "        ('num', num_transformer, num_cols),\n",
        "        ('cat', cat_transformer, cat_cols)\n",
        "    ])\n",
        "\n"
      ],
      "metadata": {
        "id": "TLZF_8JIDfZx"
      },
      "execution_count": 51,
      "outputs": []
    },
    {
      "cell_type": "code",
      "source": [
        "#prepare data\n",
        "np.random.seed(42)\n",
        "\n",
        "# Try the scaled data set\n",
        "X = df2[df2.columns[0:9]]\n",
        "\n",
        "\n",
        "df2['Segmentation'] = df2['Segmentation'].map({'A':0, 'B':1, 'C':2, 'D':3})\n",
        "y = df2['Segmentation']\n",
        "\n",
        "\n",
        "# use the 80-20 rule for validation\n",
        "X_train, X_test, y_train, y_test = train_test_split(X, y, stratify=y, test_size=0.2)\n",
        "\n"
      ],
      "metadata": {
        "id": "hZxB60BRevrW"
      },
      "execution_count": 52,
      "outputs": []
    },
    {
      "cell_type": "markdown",
      "source": [
        "# Pipelines For Various Classifier Models."
      ],
      "metadata": {
        "id": "T2WDuLhLl941"
      }
    },
    {
      "cell_type": "code",
      "source": [
        "from sklearn.linear_model import LogisticRegression\n",
        "from sklearn.tree import DecisionTreeClassifier\n",
        "from sklearn.ensemble import RandomForestClassifier\n",
        "from sklearn.svm import SVC\n",
        "\n",
        "\n",
        "num_folds = 10\n",
        "\n",
        "########## A logistic regression model\n",
        "lr_clf = Pipeline(steps=[('preprocessor', preprocessor), ('classifier', LogisticRegression(solver='saga', max_iter=100))])\n",
        "lr_score = cross_val_score(lr_clf, X, y, cv=num_folds, scoring=\"accuracy\").mean()\n",
        "\n",
        "\n",
        "########## A decicion tree with gini\n",
        "gini_dt_clf = Pipeline(steps=[('preprocessor', preprocessor), ('classifier', DecisionTreeClassifier(criterion='gini'))])\n",
        "gini_dt_score = cross_val_score(gini_dt_clf, X, y, cv=num_folds, scoring=\"accuracy\").mean()\n",
        "\n",
        "\n",
        "########## A decicion tree with entropy\n",
        "entropy_dt_clf = Pipeline(steps=[('preprocessor', preprocessor),('classifier', DecisionTreeClassifier(criterion='entropy'))])\n",
        "entropy_dt_score = cross_val_score(entropy_dt_clf, X, y, cv=num_folds, scoring=\"accuracy\").mean()\n",
        "\n",
        "\n",
        "########## A random forest\n",
        "rf_clf = Pipeline(steps=[('preprocessor', preprocessor), ('classifier', RandomForestClassifier())])\n",
        "rf_clf_score = cross_val_score(rf_clf, X, y, cv=num_folds, scoring=\"accuracy\").mean()\n",
        "\n",
        "\n",
        "########## An RBF kernel classifier\n",
        "rbf_svc_clf = Pipeline(steps=[('preprocessor', preprocessor), ('classifier', SVC(kernel='rbf'))])\n",
        "rbf_svc_clf_score = cross_val_score(rbf_svc_clf, X, y, cv=num_folds, scoring=\"accuracy\").mean()\n",
        "\n",
        "\n",
        "########## A poly kernel classifier\n",
        "poly_svc_clf = Pipeline(steps=[('preprocessor', preprocessor), ('classifier', SVC(kernel='poly'))])\n",
        "poly_svc_clf_score = cross_val_score(poly_svc_clf, X, y, cv=num_folds, scoring=\"accuracy\").mean()"
      ],
      "metadata": {
        "id": "Dl20aYraXD8S"
      },
      "execution_count": 53,
      "outputs": []
    },
    {
      "cell_type": "markdown",
      "source": [
        "**Model Comparison Plot**"
      ],
      "metadata": {
        "id": "DZ7ET8QdmeuZ"
      }
    },
    {
      "cell_type": "code",
      "source": [
        "labels = ['LR', 'DT (Gini)', 'DT (Entropy)', 'RF', 'SVC (RBF)', 'SVC (Poly)']\n",
        "training_scores = [lr_score, gini_dt_score, entropy_dt_score, rf_clf_score, rbf_svc_clf_score, poly_svc_clf_score]\n",
        "\n",
        "x = np.arange(len(labels))  # the label locations\n",
        "width = 0.35  # the width of the bars\n",
        "\n",
        "fig, ax = plt.subplots()\n",
        "rects1 = ax.bar(x - width/2, training_scores, width, label='CV=10', color='orange')\n",
        "\n",
        "# Add some text for labels, title and custom x-axis tick labels, etc.\n",
        "ax.set_ylabel('Accuracy')\n",
        "ax.set_xticks(x)\n",
        "ax.set_ylim(0,1)\n",
        "ax.set_xticklabels(labels)\n",
        "ax.legend(bbox_to_anchor = (1.3, 1.0), loc='upper right')\n",
        "\n",
        "plt.title('Model Comparisons')\n",
        "plt.show()"
      ],
      "metadata": {
        "colab": {
          "base_uri": "https://localhost:8080/",
          "height": 281
        },
        "id": "DvEqFR6zFZcD",
        "outputId": "42f1acdc-dbb2-4dbc-886a-be36172da9d5"
      },
      "execution_count": 54,
      "outputs": [
        {
          "output_type": "display_data",
          "data": {
            "image/png": "[encoded data removed]",
            "text/plain": [
              "<Figure size 432x288 with 1 Axes>"
            ]
          },
          "metadata": {
            "needs_background": "light"
          }
        }
      ]
    },
    {
      "cell_type": "markdown",
      "source": [
        "**Decision Trees Visualization**"
      ],
      "metadata": {
        "id": "ynyuBxdemvDP"
      }
    },
    {
      "cell_type": "code",
      "source": [
        "# Convert the decision tree model to text and graph\n",
        "\n",
        "from matplotlib import pyplot\n",
        "from sklearn.tree import export_text, export_graphviz\n",
        "import graphviz\n",
        "\n",
        "# we need to refit the DT model that is part of a composite pipe before exporting it as text\n",
        "entropy_dt_clf['classifier'].fit(preprocessor.fit_transform(X), y)\n",
        "\n",
        "feature_names = ['Gender', 'Ever_Married'\t,'Age'\t, 'Graduated', 'Profession'\t,'Work_Experience'\t,'Spending_Score', 'Family_Size'\t,'Var_1']\n",
        "\n",
        "# display the induced decision tree as a series of logical rules\n",
        "text_representation = export_text(entropy_dt_clf['classifier'],\n",
        "                                  feature_names=feature_names,\n",
        "                                  max_depth=2)\n",
        "print(text_representation)\n",
        "\n",
        "\n",
        "# draw the induced decision tree\n",
        "dot_data = export_graphviz(entropy_dt_clf['classifier'],\n",
        "                                  max_depth=2,\n",
        "                                  feature_names=feature_names,\n",
        "                                  filled=True)\n",
        "\n",
        "graph = graphviz.Source(dot_data, format=\"png\") \n",
        "graph"
      ],
      "metadata": {
        "colab": {
          "base_uri": "https://localhost:8080/",
          "height": 895
        },
        "id": "EHdqOSKdGIpe",
        "outputId": "c4313b7c-89f2-4564-8397-6ba8a76d789c"
      },
      "execution_count": 55,
      "outputs": [
        {
          "output_type": "stream",
          "name": "stdout",
          "text": [
            "|--- Gender <= -0.58\n",
            "|   |--- Gender <= -1.18\n",
            "|   |   |--- Spending_Score <= 4.50\n",
            "|   |   |   |--- truncated branch of depth 12\n",
            "|   |   |--- Spending_Score >  4.50\n",
            "|   |   |   |--- truncated branch of depth 12\n",
            "|   |--- Gender >  -1.18\n",
            "|   |   |--- Spending_Score <= 4.50\n",
            "|   |   |   |--- truncated branch of depth 17\n",
            "|   |   |--- Spending_Score >  4.50\n",
            "|   |   |   |--- truncated branch of depth 20\n",
            "|--- Gender >  -0.58\n",
            "|   |--- Family_Size <= 1.50\n",
            "|   |   |--- Spending_Score <= 0.50\n",
            "|   |   |   |--- truncated branch of depth 23\n",
            "|   |   |--- Spending_Score >  0.50\n",
            "|   |   |   |--- truncated branch of depth 22\n",
            "|   |--- Family_Size >  1.50\n",
            "|   |   |--- Spending_Score <= 1.50\n",
            "|   |   |   |--- truncated branch of depth 21\n",
            "|   |   |--- Spending_Score >  1.50\n",
            "|   |   |   |--- truncated branch of depth 21\n",
            "\n"
          ]
        },
        {
          "output_type": "execute_result",
          "data": {
            "text/plain": [
              "<graphviz.files.Source at 0x7efc0f2c3bd0>"
            ],
            "image/svg+xml": "<?xml version=\"1.0\" encoding=\"UTF-8\" standalone=\"no\"?>\n<!DOCTYPE svg PUBLIC \"-//W3C//DTD SVG 1.1//EN\"\n \"http://www.w3.org/Graphics/SVG/1.1/DTD/svg11.dtd\">\n<!-- Generated by graphviz version 2.40.1 (20161225.0304)\n -->\n<!-- Title: Tree Pages: 1 -->\n<svg width=\"840pt\" height=\"356pt\"\n viewBox=\"0.00 0.00 839.50 356.00\" xmlns=\"http://www.w3.org/2000/svg\" xmlns:xlink=\"http://www.w3.org/1999/xlink\">\n<g id=\"graph0\" class=\"graph\" transform=\"scale(1 1) rotate(0) translate(4 352)\">\n<title>Tree</title>\n<polygon fill=\"#ffffff\" stroke=\"transparent\" points=\"-4,4 -4,-352 835.5,-352 835.5,4 -4,4\"/>\n<!-- 0 -->\n<g id=\"node1\" class=\"node\">\n<title>0</title>\n<polygon fill=\"#fffeff\" stroke=\"#000000\" points=\"516,-348 286,-348 286,-280 516,-280 516,-348\"/>\n<text text-anchor=\"middle\" x=\"401\" y=\"-332.8\" font-family=\"Helvetica,sans-Serif\" font-size=\"14.00\" fill=\"#000000\">Gender &lt;= &#45;0.577</text>\n<text text-anchor=\"middle\" x=\"401\" y=\"-317.8\" font-family=\"Helvetica,sans-Serif\" font-size=\"14.00\" fill=\"#000000\">entropy = 1.999</text>\n<text text-anchor=\"middle\" x=\"401\" y=\"-302.8\" font-family=\"Helvetica,sans-Serif\" font-size=\"14.00\" fill=\"#000000\">samples = 6665</text>\n<text text-anchor=\"middle\" x=\"401\" y=\"-287.8\" font-family=\"Helvetica,sans-Serif\" font-size=\"14.00\" fill=\"#000000\">value = [1616, 1572, 1720, 1757]</text>\n</g>\n<!-- 1 -->\n<g id=\"node2\" class=\"node\">\n<title>1</title>\n<polygon fill=\"#eda4f3\" stroke=\"#000000\" points=\"388.5,-244 183.5,-244 183.5,-176 388.5,-176 388.5,-244\"/>\n<text text-anchor=\"middle\" x=\"286\" y=\"-228.8\" font-family=\"Helvetica,sans-Serif\" font-size=\"14.00\" fill=\"#000000\">Gender &lt;= &#45;1.182</text>\n<text text-anchor=\"middle\" x=\"286\" y=\"-213.8\" font-family=\"Helvetica,sans-Serif\" font-size=\"14.00\" fill=\"#000000\">entropy = 1.639</text>\n<text text-anchor=\"middle\" x=\"286\" y=\"-198.8\" font-family=\"Helvetica,sans-Serif\" font-size=\"14.00\" fill=\"#000000\">samples = 2175</text>\n<text text-anchor=\"middle\" x=\"286\" y=\"-183.8\" font-family=\"Helvetica,sans-Serif\" font-size=\"14.00\" fill=\"#000000\">value = [451, 233, 252, 1239]</text>\n</g>\n<!-- 0&#45;&gt;1 -->\n<g id=\"edge1\" class=\"edge\">\n<title>0&#45;&gt;1</title>\n<path fill=\"none\" stroke=\"#000000\" d=\"M363.3447,-279.9465C353.1187,-270.6986 341.9382,-260.5876 331.3359,-250.9994\"/>\n<polygon fill=\"#000000\" stroke=\"#000000\" points=\"333.5044,-248.2416 323.7399,-244.13 328.8092,-253.4334 333.5044,-248.2416\"/>\n<text text-anchor=\"middle\" x=\"324.994\" y=\"-265.3985\" font-family=\"Helvetica,sans-Serif\" font-size=\"14.00\" fill=\"#000000\">True</text>\n</g>\n<!-- 1868 -->\n<g id=\"node9\" class=\"node\">\n<title>1868</title>\n<polygon fill=\"#f7fbfe\" stroke=\"#000000\" points=\"627.5,-244 406.5,-244 406.5,-176 627.5,-176 627.5,-244\"/>\n<text text-anchor=\"middle\" x=\"517\" y=\"-228.8\" font-family=\"Helvetica,sans-Serif\" font-size=\"14.00\" fill=\"#000000\">Family_Size &lt;= 1.5</text>\n<text text-anchor=\"middle\" x=\"517\" y=\"-213.8\" font-family=\"Helvetica,sans-Serif\" font-size=\"14.00\" fill=\"#000000\">entropy = 1.912</text>\n<text text-anchor=\"middle\" x=\"517\" y=\"-198.8\" font-family=\"Helvetica,sans-Serif\" font-size=\"14.00\" fill=\"#000000\">samples = 4490</text>\n<text text-anchor=\"middle\" x=\"517\" y=\"-183.8\" font-family=\"Helvetica,sans-Serif\" font-size=\"14.00\" fill=\"#000000\">value = [1165, 1339, 1468, 518]</text>\n</g>\n<!-- 0&#45;&gt;1868 -->\n<g id=\"edge8\" class=\"edge\">\n<title>0&#45;&gt;1868</title>\n<path fill=\"none\" stroke=\"#000000\" d=\"M438.9827,-279.9465C449.2977,-270.6986 460.5754,-260.5876 471.2699,-250.9994\"/>\n<polygon fill=\"#000000\" stroke=\"#000000\" points=\"473.8226,-253.4115 478.9319,-244.13 469.1498,-248.1995 473.8226,-253.4115\"/>\n<text text-anchor=\"middle\" x=\"477.5703\" y=\"-265.3929\" font-family=\"Helvetica,sans-Serif\" font-size=\"14.00\" fill=\"#000000\">False</text>\n</g>\n<!-- 2 -->\n<g id=\"node3\" class=\"node\">\n<title>2</title>\n<polygon fill=\"#dc51e8\" stroke=\"#000000\" points=\"172,-140 0,-140 0,-72 172,-72 172,-140\"/>\n<text text-anchor=\"middle\" x=\"86\" y=\"-124.8\" font-family=\"Helvetica,sans-Serif\" font-size=\"14.00\" fill=\"#000000\">Spending_Score &lt;= 4.5</text>\n<text text-anchor=\"middle\" x=\"86\" y=\"-109.8\" font-family=\"Helvetica,sans-Serif\" font-size=\"14.00\" fill=\"#000000\">entropy = 0.705</text>\n<text text-anchor=\"middle\" x=\"86\" y=\"-94.8\" font-family=\"Helvetica,sans-Serif\" font-size=\"14.00\" fill=\"#000000\">samples = 615</text>\n<text text-anchor=\"middle\" x=\"86\" y=\"-79.8\" font-family=\"Helvetica,sans-Serif\" font-size=\"14.00\" fill=\"#000000\">value = [21, 23, 28, 543]</text>\n</g>\n<!-- 1&#45;&gt;2 -->\n<g id=\"edge2\" class=\"edge\">\n<title>1&#45;&gt;2</title>\n<path fill=\"none\" stroke=\"#000000\" d=\"M220.5125,-175.9465C201.3468,-165.9803 180.2533,-155.0117 160.5681,-144.7754\"/>\n<polygon fill=\"#000000\" stroke=\"#000000\" points=\"162.1215,-141.6383 151.6346,-140.13 158.892,-147.8488 162.1215,-141.6383\"/>\n</g>\n<!-- 175 -->\n<g id=\"node6\" class=\"node\">\n<title>175</title>\n<polygon fill=\"#f6d0f9\" stroke=\"#000000\" points=\"387.5,-140 190.5,-140 190.5,-72 387.5,-72 387.5,-140\"/>\n<text text-anchor=\"middle\" x=\"289\" y=\"-124.8\" font-family=\"Helvetica,sans-Serif\" font-size=\"14.00\" fill=\"#000000\">Spending_Score &lt;= 4.5</text>\n<text text-anchor=\"middle\" x=\"289\" y=\"-109.8\" font-family=\"Helvetica,sans-Serif\" font-size=\"14.00\" fill=\"#000000\">entropy = 1.823</text>\n<text text-anchor=\"middle\" x=\"289\" y=\"-94.8\" font-family=\"Helvetica,sans-Serif\" font-size=\"14.00\" fill=\"#000000\">samples = 1560</text>\n<text text-anchor=\"middle\" x=\"289\" y=\"-79.8\" font-family=\"Helvetica,sans-Serif\" font-size=\"14.00\" fill=\"#000000\">value = [430, 210, 224, 696]</text>\n</g>\n<!-- 1&#45;&gt;175 -->\n<g id=\"edge5\" class=\"edge\">\n<title>1&#45;&gt;175</title>\n<path fill=\"none\" stroke=\"#000000\" d=\"M286.9823,-175.9465C287.218,-167.776 287.4731,-158.9318 287.7201,-150.3697\"/>\n<polygon fill=\"#000000\" stroke=\"#000000\" points=\"291.2256,-150.2268 288.0155,-140.13 284.2285,-150.0249 291.2256,-150.2268\"/>\n</g>\n<!-- 3 -->\n<g id=\"node4\" class=\"node\">\n<title>3</title>\n<polygon fill=\"#c0c0c0\" stroke=\"#000000\" points=\"77,-36 23,-36 23,0 77,0 77,-36\"/>\n<text text-anchor=\"middle\" x=\"50\" y=\"-14.3\" font-family=\"Helvetica,sans-Serif\" font-size=\"14.00\" fill=\"#000000\">(...)</text>\n</g>\n<!-- 2&#45;&gt;3 -->\n<g id=\"edge3\" class=\"edge\">\n<title>2&#45;&gt;3</title>\n<path fill=\"none\" stroke=\"#000000\" d=\"M72.0815,-71.9769C68.4977,-63.2167 64.6862,-53.8995 61.2564,-45.5157\"/>\n<polygon fill=\"#000000\" stroke=\"#000000\" points=\"64.468,-44.1222 57.4422,-36.192 57.9891,-46.7727 64.468,-44.1222\"/>\n</g>\n<!-- 118 -->\n<g id=\"node5\" class=\"node\">\n<title>118</title>\n<polygon fill=\"#c0c0c0\" stroke=\"#000000\" points=\"149,-36 95,-36 95,0 149,0 149,-36\"/>\n<text text-anchor=\"middle\" x=\"122\" y=\"-14.3\" font-family=\"Helvetica,sans-Serif\" font-size=\"14.00\" fill=\"#000000\">(...)</text>\n</g>\n<!-- 2&#45;&gt;118 -->\n<g id=\"edge4\" class=\"edge\">\n<title>2&#45;&gt;118</title>\n<path fill=\"none\" stroke=\"#000000\" d=\"M99.9185,-71.9769C103.5023,-63.2167 107.3138,-53.8995 110.7436,-45.5157\"/>\n<polygon fill=\"#000000\" stroke=\"#000000\" points=\"114.0109,-46.7727 114.5578,-36.192 107.532,-44.1222 114.0109,-46.7727\"/>\n</g>\n<!-- 176 -->\n<g id=\"node7\" class=\"node\">\n<title>176</title>\n<polygon fill=\"#c0c0c0\" stroke=\"#000000\" points=\"280,-36 226,-36 226,0 280,0 280,-36\"/>\n<text text-anchor=\"middle\" x=\"253\" y=\"-14.3\" font-family=\"Helvetica,sans-Serif\" font-size=\"14.00\" fill=\"#000000\">(...)</text>\n</g>\n<!-- 175&#45;&gt;176 -->\n<g id=\"edge6\" class=\"edge\">\n<title>175&#45;&gt;176</title>\n<path fill=\"none\" stroke=\"#000000\" d=\"M275.0815,-71.9769C271.4977,-63.2167 267.6862,-53.8995 264.2564,-45.5157\"/>\n<polygon fill=\"#000000\" stroke=\"#000000\" points=\"267.468,-44.1222 260.4422,-36.192 260.9891,-46.7727 267.468,-44.1222\"/>\n</g>\n<!-- 1207 -->\n<g id=\"node8\" class=\"node\">\n<title>1207</title>\n<polygon fill=\"#c0c0c0\" stroke=\"#000000\" points=\"352,-36 298,-36 298,0 352,0 352,-36\"/>\n<text text-anchor=\"middle\" x=\"325\" y=\"-14.3\" font-family=\"Helvetica,sans-Serif\" font-size=\"14.00\" fill=\"#000000\">(...)</text>\n</g>\n<!-- 175&#45;&gt;1207 -->\n<g id=\"edge7\" class=\"edge\">\n<title>175&#45;&gt;1207</title>\n<path fill=\"none\" stroke=\"#000000\" d=\"M302.9185,-71.9769C306.5023,-63.2167 310.3138,-53.8995 313.7436,-45.5157\"/>\n<polygon fill=\"#000000\" stroke=\"#000000\" points=\"317.0109,-46.7727 317.5578,-36.192 310.532,-44.1222 317.0109,-46.7727\"/>\n</g>\n<!-- 1869 -->\n<g id=\"node10\" class=\"node\">\n<title>1869</title>\n<polygon fill=\"#d2e9f9\" stroke=\"#000000\" points=\"616.5,-140 411.5,-140 411.5,-72 616.5,-72 616.5,-140\"/>\n<text text-anchor=\"middle\" x=\"514\" y=\"-124.8\" font-family=\"Helvetica,sans-Serif\" font-size=\"14.00\" fill=\"#000000\">Spending_Score &lt;= 0.5</text>\n<text text-anchor=\"middle\" x=\"514\" y=\"-109.8\" font-family=\"Helvetica,sans-Serif\" font-size=\"14.00\" fill=\"#000000\">entropy = 1.682</text>\n<text text-anchor=\"middle\" x=\"514\" y=\"-94.8\" font-family=\"Helvetica,sans-Serif\" font-size=\"14.00\" fill=\"#000000\">samples = 2426</text>\n<text text-anchor=\"middle\" x=\"514\" y=\"-79.8\" font-family=\"Helvetica,sans-Serif\" font-size=\"14.00\" fill=\"#000000\">value = [389, 768, 1143, 126]</text>\n</g>\n<!-- 1868&#45;&gt;1869 -->\n<g id=\"edge9\" class=\"edge\">\n<title>1868&#45;&gt;1869</title>\n<path fill=\"none\" stroke=\"#000000\" d=\"M516.0177,-175.9465C515.782,-167.776 515.5269,-158.9318 515.2799,-150.3697\"/>\n<polygon fill=\"#000000\" stroke=\"#000000\" points=\"518.7715,-150.0249 514.9845,-140.13 511.7744,-150.2268 518.7715,-150.0249\"/>\n</g>\n<!-- 4320 -->\n<g id=\"node13\" class=\"node\">\n<title>4320</title>\n<polygon fill=\"#fbeee4\" stroke=\"#000000\" points=\"831.5,-140 634.5,-140 634.5,-72 831.5,-72 831.5,-140\"/>\n<text text-anchor=\"middle\" x=\"733\" y=\"-124.8\" font-family=\"Helvetica,sans-Serif\" font-size=\"14.00\" fill=\"#000000\">Spending_Score &lt;= 1.5</text>\n<text text-anchor=\"middle\" x=\"733\" y=\"-109.8\" font-family=\"Helvetica,sans-Serif\" font-size=\"14.00\" fill=\"#000000\">entropy = 1.919</text>\n<text text-anchor=\"middle\" x=\"733\" y=\"-94.8\" font-family=\"Helvetica,sans-Serif\" font-size=\"14.00\" fill=\"#000000\">samples = 2064</text>\n<text text-anchor=\"middle\" x=\"733\" y=\"-79.8\" font-family=\"Helvetica,sans-Serif\" font-size=\"14.00\" fill=\"#000000\">value = [776, 571, 325, 392]</text>\n</g>\n<!-- 1868&#45;&gt;4320 -->\n<g id=\"edge12\" class=\"edge\">\n<title>1868&#45;&gt;4320</title>\n<path fill=\"none\" stroke=\"#000000\" d=\"M587.7265,-175.9465C608.6119,-165.8906 631.6171,-154.814 653.0407,-144.4989\"/>\n<polygon fill=\"#000000\" stroke=\"#000000\" points=\"654.623,-147.6217 662.1146,-140.13 651.5862,-141.3147 654.623,-147.6217\"/>\n</g>\n<!-- 1870 -->\n<g id=\"node11\" class=\"node\">\n<title>1870</title>\n<polygon fill=\"#c0c0c0\" stroke=\"#000000\" points=\"505,-36 451,-36 451,0 505,0 505,-36\"/>\n<text text-anchor=\"middle\" x=\"478\" y=\"-14.3\" font-family=\"Helvetica,sans-Serif\" font-size=\"14.00\" fill=\"#000000\">(...)</text>\n</g>\n<!-- 1869&#45;&gt;1870 -->\n<g id=\"edge10\" class=\"edge\">\n<title>1869&#45;&gt;1870</title>\n<path fill=\"none\" stroke=\"#000000\" d=\"M500.0815,-71.9769C496.4977,-63.2167 492.6862,-53.8995 489.2564,-45.5157\"/>\n<polygon fill=\"#000000\" stroke=\"#000000\" points=\"492.468,-44.1222 485.4422,-36.192 485.9891,-46.7727 492.468,-44.1222\"/>\n</g>\n<!-- 2803 -->\n<g id=\"node12\" class=\"node\">\n<title>2803</title>\n<polygon fill=\"#c0c0c0\" stroke=\"#000000\" points=\"577,-36 523,-36 523,0 577,0 577,-36\"/>\n<text text-anchor=\"middle\" x=\"550\" y=\"-14.3\" font-family=\"Helvetica,sans-Serif\" font-size=\"14.00\" fill=\"#000000\">(...)</text>\n</g>\n<!-- 1869&#45;&gt;2803 -->\n<g id=\"edge11\" class=\"edge\">\n<title>1869&#45;&gt;2803</title>\n<path fill=\"none\" stroke=\"#000000\" d=\"M527.9185,-71.9769C531.5023,-63.2167 535.3138,-53.8995 538.7436,-45.5157\"/>\n<polygon fill=\"#000000\" stroke=\"#000000\" points=\"542.0109,-46.7727 542.5578,-36.192 535.532,-44.1222 542.0109,-46.7727\"/>\n</g>\n<!-- 4321 -->\n<g id=\"node14\" class=\"node\">\n<title>4321</title>\n<polygon fill=\"#c0c0c0\" stroke=\"#000000\" points=\"724,-36 670,-36 670,0 724,0 724,-36\"/>\n<text text-anchor=\"middle\" x=\"697\" y=\"-14.3\" font-family=\"Helvetica,sans-Serif\" font-size=\"14.00\" fill=\"#000000\">(...)</text>\n</g>\n<!-- 4320&#45;&gt;4321 -->\n<g id=\"edge13\" class=\"edge\">\n<title>4320&#45;&gt;4321</title>\n<path fill=\"none\" stroke=\"#000000\" d=\"M719.0815,-71.9769C715.4977,-63.2167 711.6862,-53.8995 708.2564,-45.5157\"/>\n<polygon fill=\"#000000\" stroke=\"#000000\" points=\"711.468,-44.1222 704.4422,-36.192 704.9891,-46.7727 711.468,-44.1222\"/>\n</g>\n<!-- 5518 -->\n<g id=\"node15\" class=\"node\">\n<title>5518</title>\n<polygon fill=\"#c0c0c0\" stroke=\"#000000\" points=\"796,-36 742,-36 742,0 796,0 796,-36\"/>\n<text text-anchor=\"middle\" x=\"769\" y=\"-14.3\" font-family=\"Helvetica,sans-Serif\" font-size=\"14.00\" fill=\"#000000\">(...)</text>\n</g>\n<!-- 4320&#45;&gt;5518 -->\n<g id=\"edge14\" class=\"edge\">\n<title>4320&#45;&gt;5518</title>\n<path fill=\"none\" stroke=\"#000000\" d=\"M746.9185,-71.9769C750.5023,-63.2167 754.3138,-53.8995 757.7436,-45.5157\"/>\n<polygon fill=\"#000000\" stroke=\"#000000\" points=\"761.0109,-46.7727 761.5578,-36.192 754.532,-44.1222 761.0109,-46.7727\"/>\n</g>\n</g>\n</svg>\n"
          },
          "metadata": {},
          "execution_count": 55
        }
      ]
    },
    {
      "cell_type": "markdown",
      "source": [
        "**Feature Importances**"
      ],
      "metadata": {
        "id": "DZ1ntB3bm-Cu"
      }
    },
    {
      "cell_type": "code",
      "source": [
        "# get feature importances from the model\n",
        "importance = entropy_dt_clf['classifier'].feature_importances_\n",
        "\n",
        "# summarize feature importances\n",
        "for i,v in enumerate(importance):\n",
        "\tprint('Feature: %0s, Score: %.5f' % (feature_names[i],v))\n",
        " \n",
        "# plot feature importances\n",
        "pyplot.bar([x for x in range(len(importance))], importance)\n",
        "pyplot.show()"
      ],
      "metadata": {
        "colab": {
          "base_uri": "https://localhost:8080/",
          "height": 421
        },
        "id": "6V4IEB10JF3-",
        "outputId": "b7ebb9cc-8456-4223-bdae-887aa2e95a38"
      },
      "execution_count": 56,
      "outputs": [
        {
          "output_type": "stream",
          "name": "stdout",
          "text": [
            "Feature: Gender, Score: 0.37144\n",
            "Feature: Ever_Married, Score: 0.15995\n",
            "Feature: Age, Score: 0.10009\n",
            "Feature: Graduated, Score: 0.04501\n",
            "Feature: Profession, Score: 0.02057\n",
            "Feature: Work_Experience, Score: 0.04012\n",
            "Feature: Spending_Score, Score: 0.12422\n",
            "Feature: Family_Size, Score: 0.06218\n",
            "Feature: Var_1, Score: 0.07641\n"
          ]
        },
        {
          "output_type": "display_data",
          "data": {
            "image/png": "[encoded data removed]",
            "text/plain": [
              "<Figure size 432x288 with 1 Axes>"
            ]
          },
          "metadata": {
            "needs_background": "light"
          }
        }
      ]
    },
    {
      "cell_type": "markdown",
      "source": [
        "# Hyperparemeter Optimization\n",
        "Find optimum values of hyperparameters using GridSearchCV"
      ],
      "metadata": {
        "id": "TgEElS9ZnJSs"
      }
    },
    {
      "cell_type": "code",
      "source": [
        "# Use GridSearchCV to find optimum hyperparameter values for the LogisticRegression regresssion\n",
        "# create a dictionary of all values we want to test\n",
        "C = np.logspace(-4, 4, 10)\n",
        "penalty = ['l1', 'l2']\n",
        "param_grid_1 = {\"C\":np.logspace(-3,3,7), \"penalty\":[\"l1\",\"l2\"]}# l1 lasso l2 ridge\n",
        "   \n",
        "# use gridsearch to test all values\n",
        "grid_search_1 = GridSearchCV(lr_clf['classifier'], param_grid_1, cv=20, scoring='accuracy', verbose=-1)\n",
        "    \n",
        "# fit the model \n",
        "grid_search_1.fit(preprocessor.fit_transform(X_train), y_train)\n",
        "\n",
        "   \n",
        "print(\"The best achieved accuracy after hyperparameter optimization: %.2f \\n\" % (grid_search_1.best_score_))\n",
        "print(\"The best LogisticRegression model hyperparameters:\", grid_search_1.best_params_)"
      ],
      "metadata": {
        "colab": {
          "base_uri": "https://localhost:8080/"
        },
        "id": "_I28R6cjIK1m",
        "outputId": "33788976-a8f5-4cb8-9d42-2a8b5c9e2959"
      },
      "execution_count": 57,
      "outputs": [
        {
          "output_type": "stream",
          "name": "stderr",
          "text": [
            "/usr/local/lib/python3.7/dist-packages/sklearn/linear_model/_sag.py:354: ConvergenceWarning: The max_iter was reached which means the coef_ did not converge\n",
            "  ConvergenceWarning,\n",
            "/usr/local/lib/python3.7/dist-packages/sklearn/linear_model/_sag.py:354: ConvergenceWarning: The max_iter was reached which means the coef_ did not converge\n",
            "  ConvergenceWarning,\n",
            "/usr/local/lib/python3.7/dist-packages/sklearn/linear_model/_sag.py:354: ConvergenceWarning: The max_iter was reached which means the coef_ did not converge\n",
            "  ConvergenceWarning,\n",
            "/usr/local/lib/python3.7/dist-packages/sklearn/linear_model/_sag.py:354: ConvergenceWarning: The max_iter was reached which means the coef_ did not converge\n",
            "  ConvergenceWarning,\n",
            "/usr/local/lib/python3.7/dist-packages/sklearn/linear_model/_sag.py:354: ConvergenceWarning: The max_iter was reached which means the coef_ did not converge\n",
            "  ConvergenceWarning,\n",
            "/usr/local/lib/python3.7/dist-packages/sklearn/linear_model/_sag.py:354: ConvergenceWarning: The max_iter was reached which means the coef_ did not converge\n",
            "  ConvergenceWarning,\n",
            "/usr/local/lib/python3.7/dist-packages/sklearn/linear_model/_sag.py:354: ConvergenceWarning: The max_iter was reached which means the coef_ did not converge\n",
            "  ConvergenceWarning,\n",
            "/usr/local/lib/python3.7/dist-packages/sklearn/linear_model/_sag.py:354: ConvergenceWarning: The max_iter was reached which means the coef_ did not converge\n",
            "  ConvergenceWarning,\n"
          ]
        },
        {
          "output_type": "stream",
          "name": "stdout",
          "text": [
            "The best achieved accuracy after hyperparameter optimization: 0.50 \n",
            "\n",
            "The best LogisticRegression model hyperparameters: {'C': 1.0, 'penalty': 'l1'}\n"
          ]
        }
      ]
    },
    {
      "cell_type": "code",
      "source": [
        "# Use GridSearchCV to find optimum hyperparameter values for the A decicion tree with gini\n",
        "\n",
        "# create a dictionary of all values we want to test\n",
        "param_grid2 = { 'criterion':['gini','entropy'],    # impurity criterion\n",
        "                'max_depth': np.arange(3, 10)}      # tree depth \n",
        "   \n",
        "# use gridsearch to test all values\n",
        "grid_search2 = GridSearchCV(gini_dt_clf['classifier'],  param_grid2, cv=10)\n",
        "    \n",
        "# fit the model \n",
        "grid_search2.fit(preprocessor.fit_transform(X_train), y_train)\n",
        "\n",
        "   \n",
        "print(\"The best achieved accuracy after hyperparameter optimization: %.2f \\n\" % (grid_search2.best_score_))\n",
        "print(\"The best decicion tree with gini model hyperparameters:\", grid_search2.best_params_)\n"
      ],
      "metadata": {
        "colab": {
          "base_uri": "https://localhost:8080/"
        },
        "id": "Wv6LeCpgqYDe",
        "outputId": "eae0a904-505b-451e-c39e-a59e8148d4c2"
      },
      "execution_count": 58,
      "outputs": [
        {
          "output_type": "stream",
          "name": "stdout",
          "text": [
            "The best achieved accuracy after hyperparameter optimization: 0.53 \n",
            "\n",
            "The best decicion tree with gini model hyperparameters: {'criterion': 'entropy', 'max_depth': 5}\n"
          ]
        }
      ]
    },
    {
      "cell_type": "code",
      "source": [
        "# Use GridSearchCV to find optimum hyperparameter values for the A decicion tree with entropy\n",
        "\n",
        "# create a dictionary of all values we want to test\n",
        "param_grid3 = { 'criterion':['gini','entropy'],    # impurity criterion\n",
        "                'max_depth': np.arange(3, 10)}      # tree depth \n",
        "   \n",
        "# use gridsearch to test all values\n",
        "grid_search3 = GridSearchCV(entropy_dt_clf['classifier'],  param_grid3, cv=10)\n",
        "    \n",
        "# fit the model \n",
        "grid_search3.fit(preprocessor.fit_transform(X_train), y_train)\n",
        "\n",
        "print(\"The best achieved accuracy after hyperparameter optimization: %.2f \\n\" % (grid_search3.best_score_))\n",
        "print(\"The best decicion tree with entropy model hyperparameters:\", grid_search3.best_params_)\n"
      ],
      "metadata": {
        "colab": {
          "base_uri": "https://localhost:8080/"
        },
        "id": "9mpmcZFVVC9e",
        "outputId": "fb64e949-62c5-4829-a4eb-cf566f5a0160"
      },
      "execution_count": 59,
      "outputs": [
        {
          "output_type": "stream",
          "name": "stdout",
          "text": [
            "The best achieved accuracy after hyperparameter optimization: 0.53 \n",
            "\n",
            "The best decicion tree with entropy model hyperparameters: {'criterion': 'entropy', 'max_depth': 5}\n"
          ]
        }
      ]
    },
    {
      "cell_type": "code",
      "source": [
        "# Use GridSearchCV to find optimum hyperparameter values for the Randomforest\n",
        "# create a dictionary of all values we want to test\n",
        "param_grid4 = {\n",
        "    'n_estimators': [200, 700],\n",
        "    'max_features': ['auto', 'sqrt', 'log2'],\n",
        "    'max_depth' : [4,5,6,7,8],\n",
        "    'criterion' :['gini', 'entropy']\n",
        "}\n",
        "   \n",
        "    \n",
        "# use gridsearch to test all values\n",
        "grid_search4 = GridSearchCV(rf_clf['classifier'], param_grid4, cv=2, verbose=0, scoring='accuracy')\n",
        "    \n",
        "# fit the model \n",
        "grid_search4.fit(preprocessor.fit_transform(X_train), y_train)\n",
        "\n",
        "   \n",
        "print(\"The best achieved accuracy after hyperparameter optimization: %.2f \\n\" % (grid_search4.best_score_))\n",
        "\n",
        "print(\"The best Randomforest model hyperparameters:\", grid_search4.best_params_)\n"
      ],
      "metadata": {
        "colab": {
          "base_uri": "https://localhost:8080/"
        },
        "id": "eAfYm2ZxVx6B",
        "outputId": "5ad0d55e-898f-4b94-f396-bd16692c41bc"
      },
      "execution_count": 60,
      "outputs": [
        {
          "output_type": "stream",
          "name": "stdout",
          "text": [
            "The best achieved accuracy after hyperparameter optimization: 0.54 \n",
            "\n",
            "The best Randomforest model hyperparameters: {'criterion': 'gini', 'max_depth': 6, 'max_features': 'auto', 'n_estimators': 200}\n"
          ]
        }
      ]
    },
    {
      "cell_type": "code",
      "source": [
        "# Use GridSearchCV to find optimum hyperparameter values for the SVC poly model\n",
        "# Run the job paralal by passing n_jobs=-1\n",
        "if __name__=='__main__':\n",
        "    \n",
        "    # create a dictionary of all values we want to test\n",
        "    param_grid5 = {'kernel':['poly'], # Kernel coefficient for ‘rbf’, ‘poly’ and ‘sigmoid’.\n",
        "                  'gamma':['scale','auto'],\n",
        "                  'degree': np.arange(2,4),  # polynomial degree\n",
        "                  'C': np.arange(1,5)}       # Regularization parameter\n",
        "      \n",
        "        \n",
        "    # use gridsearch to test all values\n",
        "    grid_search5 = GridSearchCV(poly_svc_clf['classifier'], \n",
        "                              param_grid5, \n",
        "                              cv=3, scoring='accuracy', n_jobs=-1, verbose=10)\n",
        "        \n",
        "    # fit the model \n",
        "    grid_search5.fit(preprocessor.fit_transform(X_train), y_train)\n",
        "\n",
        "      \n",
        "    print(\"The best achieved accuracy after hyperparameter optimization: %.2f\\n\" % grid_search5.best_score_)\n",
        "    print(\"The best SVC poly model hyperparameters:\", grid_search5.best_params_)"
      ],
      "metadata": {
        "colab": {
          "base_uri": "https://localhost:8080/"
        },
        "id": "1lnEn67p7ZdJ",
        "outputId": "785693d4-a78b-4b4a-d2c1-2447fe146a3a"
      },
      "execution_count": 61,
      "outputs": [
        {
          "output_type": "stream",
          "name": "stdout",
          "text": [
            "Fitting 3 folds for each of 16 candidates, totalling 48 fits\n",
            "The best achieved accuracy after hyperparameter optimization: 0.52\n",
            "\n",
            "The best SVC poly model hyperparameters: {'C': 3, 'degree': 3, 'gamma': 'auto', 'kernel': 'poly'}\n"
          ]
        }
      ]
    },
    {
      "cell_type": "code",
      "source": [
        "# Use GridSearchCV to find optimum hyperparameter values for the RBF kernel classifier\n",
        "# create a dictionary of all values we want to test\n",
        "\n",
        "param_grid6 = {\"C\":3. ** np.arange(-3, 3), \"gamma\": 5. ** np.arange(-5, 2), 'kernel': ['rbf', 'sigmoid']}\n",
        "   \n",
        "# use gridsearch to test all values\n",
        "grid_search6 = GridSearchCV(rbf_svc_clf['classifier'], param_grid6, cv=2, scoring='accuracy', verbose=1)\n",
        "    \n",
        "# fit the model \n",
        "grid_search6.fit(preprocessor.fit_transform(X_train), y_train)\n",
        "\n",
        "print(\"The best achieved accuracy after hyperparameter optimization: %.2f \\n\" % (grid_search6.best_score_))\n",
        "print(\"The best RBF kernel  model hyperparameters:\", grid_search6.best_params_)"
      ],
      "metadata": {
        "colab": {
          "base_uri": "https://localhost:8080/"
        },
        "id": "65VN2BOfiP7D",
        "outputId": "f043cf46-7070-472f-bee4-ee2292f3268e"
      },
      "execution_count": 62,
      "outputs": [
        {
          "output_type": "stream",
          "name": "stdout",
          "text": [
            "Fitting 2 folds for each of 84 candidates, totalling 168 fits\n",
            "The best achieved accuracy after hyperparameter optimization: 0.52 \n",
            "\n",
            "The best RBF kernel  model hyperparameters: {'C': 3.0, 'gamma': 0.04, 'kernel': 'rbf'}\n"
          ]
        }
      ]
    },
    {
      "cell_type": "markdown",
      "source": [
        "**Hyperparamater Optimization Comparison (Before optimization Vs After optimization)**"
      ],
      "metadata": {
        "id": "6ACrcp1WnW5b"
      }
    },
    {
      "cell_type": "code",
      "source": [
        "# graph results of grid search for the two models\n",
        "\n",
        "labels = ['LR(saga)','DT(Gini)','DT(Entropy)','RF','SVC(Poly)', 'SVC(RBF)']\n",
        "before_optimization_scores = [lr_score, gini_dt_score, entropy_dt_score, rf_clf_score, poly_svc_clf_score, rbf_svc_clf_score]\n",
        "after_optimization_scores = [grid_search_1.best_score_, grid_search2.best_score_, grid_search3.best_score_, grid_search4.best_score_, grid_search5.best_score_, grid_search6.best_score_]\n",
        "\n",
        "x = np.arange(len(labels))  # the label locations\n",
        "width = 0.25                # the width of the bars\n",
        "\n",
        "fig, ax = plt.subplots()\n",
        "rects1 = ax.bar(x - width/2, before_optimization_scores, width, label='Before Optimization', color='gray')\n",
        "rects2 = ax.bar(x + width/2, after_optimization_scores, width, label='After Optimization', color='maroon')\n",
        "\n",
        "# Add some text for labels, title and custom x-axis tick labels, etc.\n",
        "ax.set_ylabel('Accuracy')\n",
        "ax.set_xticks(x)\n",
        "ax.set_ylim(0,1.0)\n",
        "ax.set_xticklabels(labels)\n",
        "ax.legend(bbox_to_anchor = (1.45, 1.0), loc='upper right')\n",
        "\n",
        "plt.title('Hyperparamater Optimization Results')\n",
        "plt.show()\n"
      ],
      "metadata": {
        "colab": {
          "base_uri": "https://localhost:8080/",
          "height": 281
        },
        "id": "3E8yjdCnZKmT",
        "outputId": "56172498-8185-453d-898f-c4f1ee3cb1a4"
      },
      "execution_count": 63,
      "outputs": [
        {
          "output_type": "display_data",
          "data": {
            "image/png": "[encoded data removed]",
            "text/plain": [
              "<Figure size 432x288 with 1 Axes>"
            ]
          },
          "metadata": {
            "needs_background": "light"
          }
        }
      ]
    },
    {
      "cell_type": "markdown",
      "source": [
        "We loaded the  Customer Satisfaction dataset and analyzed the data in multiple ways like plotting, correlation to identify the relationship with the decision variable, etc. We followed the following steps  \n",
        "\n",
        "1.   pipelines to impute and prepare data\n",
        "2.   pipelines to perform classification\n",
        "3.   Encode the labels for multi-classification \n",
        "3.   converting decision trees to text and graph\n",
        "4.   performing grid search to optimize a few hyperparameters\n",
        "\n",
        "\n",
        "The obtained results show that the average accuracy measure for all models was around 48% to 55%. \n",
        "\n",
        "\n",
        "GridSearchCV was not performed exhaustively although the last two experiments and the plotted graph show that modest improvements can be made by just optimizing a few hyperparameters."
      ],
      "metadata": {
        "id": "zz2R6vPVnxoh"
      }
    }
  ]
}